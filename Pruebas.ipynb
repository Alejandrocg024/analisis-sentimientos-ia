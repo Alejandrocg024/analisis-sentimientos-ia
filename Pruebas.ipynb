{
 "cells": [
  {
   "cell_type": "code",
   "execution_count": 18,
   "id": "00187e07",
   "metadata": {},
   "outputs": [],
   "source": [
    "import nltk\n",
    "import re\n",
    "from nltk.corpus import stopwords \n",
    "from nltk.stem import PorterStemmer\n",
    "from nltk.tokenize import word_tokenize\n",
    "\n",
    "def limpiar_texto(texto):\n",
    "    # Convertir el texto a minúsculas\n",
    "    texto = texto.lower()\n",
    "    \n",
    "    # Eliminar menciones, hashtags, URLs y otros símbolos extraños\n",
    "    texto = re.sub(r'http\\S+', '', texto)  # eliminar URLs\n",
    "    texto = re.sub(r'#\\w+', '', texto)  # eliminar hashtags\n",
    "    texto = re.sub(r'@\\w+', '', texto)  # eliminar menciones\n",
    "    texto = re.sub(r'[^\\w\\s]', '', texto)  # eliminar otros símbolos extraños\n",
    "    \n",
    "    # Tokenización\n",
    "    tokens = word_tokenize(texto)\n",
    "    \n",
    "    # Eliminación de stop words y stemmming (reducción de palabras a su forma base)\n",
    "    stop_words = set(stopwords.words('english'))\n",
    "    ps = PorterStemmer()\n",
    "    palabras_limpias = [ps.stem(word) for word in tokens if word not in stop_words]\n",
    "    \n",
    "    # Unir las palabras limpias en una sola cadena de texto\n",
    "    texto_limpio = ' '.join(palabras_limpias)\n",
    "    \n",
    "    return texto_limpio\n"
   ]
  },
  {
   "cell_type": "code",
   "execution_count": 19,
   "id": "e32e5172",
   "metadata": {},
   "outputs": [
    {
     "data": {
      "text/plain": [
       "'snake'"
      ]
     },
     "execution_count": 19,
     "metadata": {},
     "output_type": "execute_result"
    }
   ],
   "source": [
    "limpiar_texto(\"This is just a snake\")"
   ]
  },
  {
   "cell_type": "code",
   "execution_count": 21,
   "id": "97435db2",
   "metadata": {},
   "outputs": [
    {
     "data": {
      "text/plain": [
       "'neutro'"
      ]
     },
     "execution_count": 21,
     "metadata": {},
     "output_type": "execute_result"
    }
   ],
   "source": [
    "payo=limpiar_texto(\"@Heather_Poole I agree! \")\n",
    "etiquetar_texto(payo)"
   ]
  },
  {
   "cell_type": "code",
   "execution_count": null,
   "id": "9d5aa241",
   "metadata": {},
   "outputs": [],
   "source": []
  }
 ],
 "metadata": {
  "kernelspec": {
   "display_name": "Python 3 (ipykernel)",
   "language": "python",
   "name": "python3"
  },
  "language_info": {
   "codemirror_mode": {
    "name": "ipython",
    "version": 3
   },
   "file_extension": ".py",
   "mimetype": "text/x-python",
   "name": "python",
   "nbconvert_exporter": "python",
   "pygments_lexer": "ipython3",
   "version": "3.10.9"
  }
 },
 "nbformat": 4,
 "nbformat_minor": 5
}
