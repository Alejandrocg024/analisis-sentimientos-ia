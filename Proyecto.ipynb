{
 "cells": [
  {
   "cell_type": "code",
   "execution_count": 1,
   "metadata": {},
   "outputs": [
    {
     "name": "stdout",
     "output_type": "stream",
     "text": [
      "Defaulting to user installation because normal site-packages is not writeable\n",
      "Requirement already satisfied: nltk in c:\\users\\pablo\\appdata\\roaming\\python\\python39\\site-packages (3.8.1)\n",
      "Requirement already satisfied: tqdm in c:\\programdata\\anaconda3\\lib\\site-packages (from nltk) (4.64.1)\n",
      "Requirement already satisfied: joblib in c:\\programdata\\anaconda3\\lib\\site-packages (from nltk) (1.1.0)\n",
      "Requirement already satisfied: regex>=2021.8.3 in c:\\programdata\\anaconda3\\lib\\site-packages (from nltk) (2022.7.9)\n",
      "Requirement already satisfied: click in c:\\programdata\\anaconda3\\lib\\site-packages (from nltk) (8.0.4)\n",
      "Requirement already satisfied: colorama in c:\\programdata\\anaconda3\\lib\\site-packages (from click->nltk) (0.4.5)\n"
     ]
    },
    {
     "name": "stderr",
     "output_type": "stream",
     "text": [
      "[nltk_data] Downloading package punkt to C:\\Users\\pablo/nltk_data...\n",
      "[nltk_data]   Package punkt is already up-to-date!\n",
      "[nltk_data] Downloading package stopwords to\n",
      "[nltk_data]     C:\\Users\\pablo/nltk_data...\n",
      "[nltk_data]   Package stopwords is already up-to-date!\n",
      "[nltk_data] Downloading package wordnet to C:\\Users\\pablo/nltk_data...\n",
      "[nltk_data]   Package wordnet is already up-to-date!\n"
     ]
    },
    {
     "data": {
      "text/plain": [
       "True"
      ]
     },
     "execution_count": 1,
     "metadata": {},
     "output_type": "execute_result"
    }
   ],
   "source": [
    "!pip install nltk\n",
    "import nltk\n",
    "\n",
    "nltk.download('punkt')\n",
    "nltk.download('stopwords')\n",
    "nltk.download('wordnet')"
   ]
  },
  {
   "cell_type": "code",
   "execution_count": 2,
   "metadata": {},
   "outputs": [],
   "source": [
    "import re\n",
    "from nltk.corpus import stopwords\n",
    "from nltk.stem import WordNetLemmatizer\n",
    "from nltk.tokenize import word_tokenize\n",
    "\n",
    "def limpiar_texto(texto):\n",
    "    # Eliminar menciones, hashtags, URLs y otros símbolos extraños\n",
    "    texto = re.sub(r'http\\S+', '', texto)  # eliminar URLs\n",
    "    texto = re.sub(r'#\\w+', '', texto)  # eliminar hashtags\n",
    "    texto = re.sub(r'@\\w+', '', texto)  # eliminar menciones\n",
    "    texto = re.sub(r'[^\\w\\s]', '', texto)  # eliminar otros símbolos extraños\n",
    "    \n",
    "    # Convertir el texto a minúsculas\n",
    "    texto = texto.lower()\n",
    "    \n",
    "    # Tokenización\n",
    "    tokens = word_tokenize(texto)\n",
    "    \n",
    "    # Eliminación de stop words y lematización\n",
    "    lemmatizer = WordNetLemmatizer()\n",
    "    stop_words = set(stopwords.words('english'))\n",
    "    palabras_limpias = [lemmatizer.lemmatize(word) for word in tokens if word not in stop_words]\n",
    "    \n",
    "    # Unir las palabras limpias en una sola cadena de texto\n",
    "    texto_limpio = ' '.join(palabras_limpias)\n",
    "    \n",
    "    return texto_limpio\n"
   ]
  },
  {
   "cell_type": "code",
   "execution_count": 3,
   "metadata": {},
   "outputs": [
    {
     "data": {
      "text/plain": [
       "'zack back h3ll 2morrow ____ im gon na getchagetcha getchaaa'"
      ]
     },
     "execution_count": 3,
     "metadata": {},
     "output_type": "execute_result"
    }
   ],
   "source": [
    "limpiar_texto(\"Zack back H3LL  but 2morrow *____* I'm gonna getcha,getcha, getchaaa!!!\")"
   ]
  },
  {
   "cell_type": "code",
   "execution_count": 12,
   "metadata": {},
   "outputs": [
    {
     "name": "stdout",
     "output_type": "stream",
     "text": [
      "Defaulting to user installation because normal site-packages is not writeable\n",
      "Collecting textblob\n",
      "  Downloading textblob-0.17.1-py2.py3-none-any.whl (636 kB)\n",
      "     -------------------------------------- 636.8/636.8 kB 6.7 MB/s eta 0:00:00\n",
      "Requirement already satisfied: nltk>=3.1 in c:\\users\\pablo\\appdata\\roaming\\python\\python39\\site-packages (from textblob) (3.8.1)\n",
      "Requirement already satisfied: joblib in c:\\programdata\\anaconda3\\lib\\site-packages (from nltk>=3.1->textblob) (1.1.0)\n",
      "Requirement already satisfied: regex>=2021.8.3 in c:\\programdata\\anaconda3\\lib\\site-packages (from nltk>=3.1->textblob) (2022.7.9)\n",
      "Requirement already satisfied: tqdm in c:\\programdata\\anaconda3\\lib\\site-packages (from nltk>=3.1->textblob) (4.64.1)\n",
      "Requirement already satisfied: click in c:\\programdata\\anaconda3\\lib\\site-packages (from nltk>=3.1->textblob) (8.0.4)\n",
      "Requirement already satisfied: colorama in c:\\programdata\\anaconda3\\lib\\site-packages (from click->nltk>=3.1->textblob) (0.4.5)\n",
      "Installing collected packages: textblob\n",
      "Successfully installed textblob-0.17.1\n"
     ]
    }
   ],
   "source": [
    "!pip install textblob\n",
    "from textblob import TextBlob\n",
    "\n",
    "def etiquetar(texto):\n",
    "    # Crear un objeto TextBlob con el texto a analizar\n",
    "    blob = TextBlob(texto)\n",
    "    # Obtener el valor del análisis de sentimiento\n",
    "    sentimiento = blob.sentiment.polarity\n",
    "    # Asignar una etiqueta en función del valor del sentimiento\n",
    "    if sentimiento >= 0.7:\n",
    "        etiqueta = \"Muy feliz\"\n",
    "    elif sentimiento >= 0.3:\n",
    "        etiqueta = \"Contento\"\n",
    "    elif sentimiento >= -0.3:\n",
    "        etiqueta = \"Neutro\"\n",
    "    elif sentimiento >= -0.7:\n",
    "        etiqueta = \"Molesto\"\n",
    "    else:\n",
    "        etiqueta = \"Hater\"\n",
    "    return etiqueta"
   ]
  },
  {
   "cell_type": "code",
   "execution_count": 51,
   "metadata": {},
   "outputs": [],
   "source": [
    "# Función para calcular el etiquetado según el número\n",
    "def calculo_etiqueta_valor(numero):\n",
    "    if numero == '4':\n",
    "        etiqueta = \"Muy feliz\"\n",
    "    elif numero == '3':\n",
    "        etiqueta = \"Contento\"\n",
    "    elif numero == '2':\n",
    "        etiqueta = \"Neutro\"\n",
    "    elif numero == '1':\n",
    "        etiqueta = \"Molesto\"\n",
    "    else:\n",
    "        etiqueta = \"Hater\"\n",
    "    return etiqueta\n",
    "    "
   ]
  },
  {
   "cell_type": "code",
   "execution_count": 52,
   "metadata": {},
   "outputs": [],
   "source": [
    "import csv\n",
    "def agregar_columna(input_file):\n",
    "    with open(input_file, 'r') as file:\n",
    "        reader = csv.reader(file, delimiter=';')\n",
    "        rows = list(reader)\n",
    "        header = rows[0]\n",
    "        # Añadimos las 3 nuevas columnas\n",
    "        header.append('Texto limpio')\n",
    "        header.append('Valor propuesto')\n",
    "        header.append('Valor calculado')\n",
    "        for i in range(1, len(rows)):\n",
    "            # Usamos la columna en la cuál está el texto en bruto\n",
    "            valor_columna = rows[i][2]  \n",
    "            # Limpiamos el texto para que pueda ser analizado\n",
    "            texto_limpio = limpiar_texto(valor_columna)\n",
    "            # Lo etiquetamos\n",
    "            texto_etiquetado = etiquetar(texto_limpio)\n",
    "            # Calculamos el etiquetado que nos propuso el csv\n",
    "            valor_propuesto = calculo_etiqueta_valor(rows[i][1])\n",
    "            # Añadimos los nuevos valores\n",
    "            rows[i].append(texto_limpio) \n",
    "            rows[i].append(valor_propuesto)\n",
    "            rows[i].append(texto_etiquetado)  \n",
    "\n",
    "    # Guardar los cambios en un nuevo archivo CSV\n",
    "    output_file = 'DatosFinales.csv'\n",
    "    with open(output_file, 'w', newline='') as file:\n",
    "        writer = csv.writer(file, delimiter=';')\n",
    "        writer.writerows(rows)"
   ]
  },
  {
   "cell_type": "code",
   "execution_count": 53,
   "metadata": {},
   "outputs": [
    {
     "name": "stdout",
     "output_type": "stream",
     "text": [
      "Se ha creado el archivo CSV \"DatosFinales.csv\" con la nueva columna agregada.\n"
     ]
    }
   ],
   "source": [
    "agregar_columna('DatosNuevos.csv')"
   ]
  },
  {
   "cell_type": "code",
   "execution_count": null,
   "metadata": {},
   "outputs": [],
   "source": []
  }
 ],
 "metadata": {
  "kernelspec": {
   "display_name": "Python 3 (ipykernel)",
   "language": "python",
   "name": "python3"
  },
  "language_info": {
   "codemirror_mode": {
    "name": "ipython",
    "version": 3
   },
   "file_extension": ".py",
   "mimetype": "text/x-python",
   "name": "python",
   "nbconvert_exporter": "python",
   "pygments_lexer": "ipython3",
   "version": "3.9.13"
  }
 },
 "nbformat": 4,
 "nbformat_minor": 4
}
