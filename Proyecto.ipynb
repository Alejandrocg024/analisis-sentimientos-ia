{
 "cells": [
  {
   "cell_type": "code",
   "execution_count": 11,
   "metadata": {},
   "outputs": [
    {
     "name": "stdout",
     "output_type": "stream",
     "text": [
      "Requirement already satisfied: nltk in /opt/sagemath-9.2/local/lib/python3.7/site-packages (3.8.1)\n",
      "Requirement already satisfied: regex>=2021.8.3 in /opt/sagemath-9.2/local/lib/python3.7/site-packages (from nltk) (2023.5.4)\n",
      "Requirement already satisfied: tqdm in /opt/sagemath-9.2/local/lib/python3.7/site-packages (from nltk) (4.65.0)\n",
      "Requirement already satisfied: joblib in /opt/sagemath-9.2/local/lib/python3.7/site-packages (from nltk) (1.2.0)\n",
      "Requirement already satisfied: click in /opt/sagemath-9.2/local/lib/python3.7/site-packages (from nltk) (8.1.3)\n",
      "Requirement already satisfied: importlib-metadata; python_version < \"3.8\" in /opt/sagemath-9.2/local/lib/python3.7/site-packages (from click->nltk) (1.7.0)\n",
      "Requirement already satisfied: zipp>=0.5 in /opt/sagemath-9.2/local/lib/python3.7/site-packages (from importlib-metadata; python_version < \"3.8\"->click->nltk) (0.5.2)\n",
      "\u001b[33mWARNING: You are using pip version 20.2.3; however, version 23.1.2 is available.\n",
      "You should consider upgrading via the '/opt/sagemath-9.2/local/bin/python3 -m pip install --upgrade pip' command.\u001b[0m\n"
     ]
    },
    {
     "name": "stderr",
     "output_type": "stream",
     "text": [
      "[nltk_data] Downloading package punkt to /home/sage/nltk_data...\n",
      "[nltk_data]   Package punkt is already up-to-date!\n",
      "[nltk_data] Downloading package stopwords to /home/sage/nltk_data...\n",
      "[nltk_data]   Package stopwords is already up-to-date!\n",
      "[nltk_data] Downloading package wordnet to /home/sage/nltk_data...\n"
     ]
    },
    {
     "data": {
      "text/plain": [
       "True"
      ]
     },
     "execution_count": 11,
     "metadata": {},
     "output_type": "execute_result"
    }
   ],
   "source": [
    "!pip install nltk\n",
    "nltk.download('punkt')\n",
    "nltk.download('stopwords')\n",
    "nltk.download('wordnet')\n"
   ]
  },
  {
   "cell_type": "code",
   "execution_count": 15,
   "metadata": {},
   "outputs": [],
   "source": [
    "import nltk\n",
    "from nltk.corpus import stopwords\n",
    "from nltk.tokenize import word_tokenize\n",
    "from nltk.stem import WordNetLemmatizer\n",
    "import re\n",
    "\n",
    "def limpiar_texto(texto):\n",
    "    # Convertir todo el texto a minúsculas\n",
    "    texto = texto.lower()\n",
    "    # Eliminar menciones, hashtags, URLs y emoticonos\n",
    "    texto = re.sub(r\"(?:\\@|\\#|\\*|https?\\://)\\S+\", \"\", texto)\n",
    "    # Tokenizar el texto\n",
    "    tokens = word_tokenize(texto)\n",
    "    # Eliminar las stopwords\n",
    "    stop_words = set(stopwords.words(\"english\"))\n",
    "    tokens = [token for token in tokens if not token in stop_words]\n",
    "    # Lematizar las palabras\n",
    "    lemmatizer = WordNetLemmatizer()\n",
    "    tokens = [lemmatizer.lemmatize(token) for token in tokens]\n",
    "    # Unir las palabras limpias en una sola cadena de texto\n",
    "    texto_limpio = \" \".join(tokens)\n",
    "    return texto_limpio"
   ]
  },
  {
   "cell_type": "code",
   "execution_count": 16,
   "metadata": {},
   "outputs": [
    {
     "data": {
      "text/plain": [
       "\"zack back h3ll 2morrow 'm gon na getcha , getcha , getchaaa ! ! !\""
      ]
     },
     "execution_count": 16,
     "metadata": {},
     "output_type": "execute_result"
    }
   ],
   "source": [
    "limpiar_texto(\"Zack back H3LL  but 2morrow *____* I'm gonna getcha,getcha, getchaaa!!!\")"
   ]
  },
  {
   "cell_type": "code",
   "execution_count": null,
   "metadata": {},
   "outputs": [],
   "source": []
  },
  {
   "cell_type": "code",
   "execution_count": null,
   "metadata": {},
   "outputs": [],
   "source": []
  }
 ],
 "metadata": {
  "kernelspec": {
   "display_name": "SageMath 9.2",
   "language": "sage",
   "name": "sagemath"
  },
  "language_info": {
   "codemirror_mode": {
    "name": "ipython",
    "version": 3
   },
   "file_extension": ".py",
   "mimetype": "text/x-python",
   "name": "python",
   "nbconvert_exporter": "python",
   "pygments_lexer": "ipython3",
   "version": "3.7.7"
  }
 },
 "nbformat": 4,
 "nbformat_minor": 4
}
