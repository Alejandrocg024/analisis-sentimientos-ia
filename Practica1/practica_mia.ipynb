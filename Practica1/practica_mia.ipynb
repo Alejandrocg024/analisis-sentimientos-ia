{
 "cells": [
  {
   "cell_type": "markdown",
   "metadata": {},
   "source": [
    "El paquete de _Python_ [scikit-learn](http://scikit-learn.org) (_sklearn_ en lo que sigue) proporciona un marco de trabajo para el aprendizaje automático."
   ]
  },
  {
   "cell_type": "markdown",
   "metadata": {},
   "source": [
    "# Aprendizaje supervisado"
   ]
  },
  {
   "cell_type": "markdown",
   "metadata": {
    "tags": []
   },
   "source": [
    "Para ilustrar el concepto de aprendizaje supervisado vamos a usar el conjunto de datos [_Car Evaluation_](http://archive.ics.uci.edu/ml/datasets/Car+Evaluation) del repositorio [UCI](http://archive.ics.uci.edu/ml/). Este conjunto de datos contiene información acerca de la idoneidad de una serie de coches, en función de los siguientes atributos discretos:\n",
    "* _buying_: precio de compra. Posibles valores: `vhigh`, `high`, `med`, `low`.\n",
    "* _maint_: coste de mantenimiento. Posibles valores: `vhigh`, `high`, `med`, `low`.\n",
    "* _doors_: número de puertas. Posibles valores: `2`, `3`, `4`, `5more`.\n",
    "* _persons_: número de asientos. Posibles valores: `2`, `4`, `more`.\n",
    "* _lug\\_boot_: tamaño del maletero. Posibles valores: `small`, `med`, `big`.\n",
    "* _safety_: nivel de seguridad estimada. Posibles valores: `low`, `med`, `high`.\n",
    "\n",
    "La idoneidad de cada coche se indica mediante el atributo _acceptability_, que los clasifica como `unacc`, `acc`, `good` o `vgood`."
   ]
  },
  {
   "cell_type": "markdown",
   "metadata": {},
   "source": [
    "Para leer los datos desde el fichero `cars.csv` que se proporciona se pueden evaluar las siguientes expresiones ([_Pandas_](http://pandas.pydata.org/) y [_NumPy_](http://www.numpy.org/) son paquetes de _Python_ para análisis de datos y cálculo científico, respectivamente):"
   ]
  },
  {
   "cell_type": "code",
   "execution_count": 1,
   "metadata": {
    "jupyter": {
     "outputs_hidden": false
    }
   },
   "outputs": [],
   "source": [
    "import pandas\n",
    "import numpy"
   ]
  },
  {
   "cell_type": "code",
   "execution_count": 2,
   "metadata": {
    "jupyter": {
     "outputs_hidden": false
    }
   },
   "outputs": [],
   "source": [
    "cars = pandas.read_csv('cars.csv', header=None,\n",
    "                       names=['buying', 'maint', 'doors', 'persons',\n",
    "                              'lug_boot', 'safety', 'acceptability'])"
   ]
  },
  {
   "cell_type": "code",
   "execution_count": 3,
   "metadata": {
    "jupyter": {
     "outputs_hidden": false
    }
   },
   "outputs": [
    {
     "name": "stdout",
     "output_type": "stream",
     "text": [
      "(1728, 7)\n"
     ]
    }
   ],
   "source": [
    "# Número de filas y columnas\n",
    "print(cars.shape)"
   ]
  },
  {
   "cell_type": "code",
   "execution_count": 4,
   "metadata": {
    "jupyter": {
     "outputs_hidden": false
    }
   },
   "outputs": [
    {
     "data": {
      "text/html": [
       "<div>\n",
       "<style scoped>\n",
       "    .dataframe tbody tr th:only-of-type {\n",
       "        vertical-align: middle;\n",
       "    }\n",
       "\n",
       "    .dataframe tbody tr th {\n",
       "        vertical-align: top;\n",
       "    }\n",
       "\n",
       "    .dataframe thead th {\n",
       "        text-align: right;\n",
       "    }\n",
       "</style>\n",
       "<table border=\"1\" class=\"dataframe\">\n",
       "  <thead>\n",
       "    <tr style=\"text-align: right;\">\n",
       "      <th></th>\n",
       "      <th>buying</th>\n",
       "      <th>maint</th>\n",
       "      <th>doors</th>\n",
       "      <th>persons</th>\n",
       "      <th>lug_boot</th>\n",
       "      <th>safety</th>\n",
       "      <th>acceptability</th>\n",
       "    </tr>\n",
       "  </thead>\n",
       "  <tbody>\n",
       "    <tr>\n",
       "      <th>0</th>\n",
       "      <td>vhigh</td>\n",
       "      <td>vhigh</td>\n",
       "      <td>2</td>\n",
       "      <td>2</td>\n",
       "      <td>small</td>\n",
       "      <td>low</td>\n",
       "      <td>unacc</td>\n",
       "    </tr>\n",
       "    <tr>\n",
       "      <th>1</th>\n",
       "      <td>vhigh</td>\n",
       "      <td>vhigh</td>\n",
       "      <td>2</td>\n",
       "      <td>2</td>\n",
       "      <td>small</td>\n",
       "      <td>med</td>\n",
       "      <td>unacc</td>\n",
       "    </tr>\n",
       "    <tr>\n",
       "      <th>2</th>\n",
       "      <td>vhigh</td>\n",
       "      <td>vhigh</td>\n",
       "      <td>2</td>\n",
       "      <td>2</td>\n",
       "      <td>small</td>\n",
       "      <td>high</td>\n",
       "      <td>unacc</td>\n",
       "    </tr>\n",
       "    <tr>\n",
       "      <th>3</th>\n",
       "      <td>vhigh</td>\n",
       "      <td>vhigh</td>\n",
       "      <td>2</td>\n",
       "      <td>2</td>\n",
       "      <td>med</td>\n",
       "      <td>low</td>\n",
       "      <td>unacc</td>\n",
       "    </tr>\n",
       "    <tr>\n",
       "      <th>4</th>\n",
       "      <td>vhigh</td>\n",
       "      <td>vhigh</td>\n",
       "      <td>2</td>\n",
       "      <td>2</td>\n",
       "      <td>med</td>\n",
       "      <td>med</td>\n",
       "      <td>unacc</td>\n",
       "    </tr>\n",
       "    <tr>\n",
       "      <th>5</th>\n",
       "      <td>vhigh</td>\n",
       "      <td>vhigh</td>\n",
       "      <td>2</td>\n",
       "      <td>2</td>\n",
       "      <td>med</td>\n",
       "      <td>high</td>\n",
       "      <td>unacc</td>\n",
       "    </tr>\n",
       "    <tr>\n",
       "      <th>6</th>\n",
       "      <td>vhigh</td>\n",
       "      <td>vhigh</td>\n",
       "      <td>2</td>\n",
       "      <td>2</td>\n",
       "      <td>big</td>\n",
       "      <td>low</td>\n",
       "      <td>unacc</td>\n",
       "    </tr>\n",
       "    <tr>\n",
       "      <th>7</th>\n",
       "      <td>vhigh</td>\n",
       "      <td>vhigh</td>\n",
       "      <td>2</td>\n",
       "      <td>2</td>\n",
       "      <td>big</td>\n",
       "      <td>med</td>\n",
       "      <td>unacc</td>\n",
       "    </tr>\n",
       "    <tr>\n",
       "      <th>8</th>\n",
       "      <td>vhigh</td>\n",
       "      <td>vhigh</td>\n",
       "      <td>2</td>\n",
       "      <td>2</td>\n",
       "      <td>big</td>\n",
       "      <td>high</td>\n",
       "      <td>unacc</td>\n",
       "    </tr>\n",
       "    <tr>\n",
       "      <th>9</th>\n",
       "      <td>vhigh</td>\n",
       "      <td>vhigh</td>\n",
       "      <td>2</td>\n",
       "      <td>4</td>\n",
       "      <td>small</td>\n",
       "      <td>low</td>\n",
       "      <td>unacc</td>\n",
       "    </tr>\n",
       "  </tbody>\n",
       "</table>\n",
       "</div>"
      ],
      "text/plain": [
       "  buying  maint doors persons lug_boot safety acceptability\n",
       "0  vhigh  vhigh     2       2    small    low         unacc\n",
       "1  vhigh  vhigh     2       2    small    med         unacc\n",
       "2  vhigh  vhigh     2       2    small   high         unacc\n",
       "3  vhigh  vhigh     2       2      med    low         unacc\n",
       "4  vhigh  vhigh     2       2      med    med         unacc\n",
       "5  vhigh  vhigh     2       2      med   high         unacc\n",
       "6  vhigh  vhigh     2       2      big    low         unacc\n",
       "7  vhigh  vhigh     2       2      big    med         unacc\n",
       "8  vhigh  vhigh     2       2      big   high         unacc\n",
       "9  vhigh  vhigh     2       4    small    low         unacc"
      ]
     },
     "execution_count": 4,
     "metadata": {},
     "output_type": "execute_result"
    }
   ],
   "source": [
    "# 10 primeras filas\n",
    "cars.head(10)"
   ]
  },
  {
   "cell_type": "markdown",
   "metadata": {},
   "source": [
    "_sklearn_ no puede trabajar directamente con el conjunto de datos anterior, ya que asume que los valores de las variables discretas están codificadas con números enteros. Para transformar los datos a un formato adecuado ofrece diversas operaciones de preprocesamiento, entre las que se encuentran `OrdinalEncoder`, para codificar los atributos, y `LabelEncoder`, para codificar la variable objetivo."
   ]
  },
  {
   "cell_type": "code",
   "execution_count": 5,
   "metadata": {
    "jupyter": {
     "outputs_hidden": false
    }
   },
   "outputs": [],
   "source": [
    "from sklearn import preprocessing"
   ]
  },
  {
   "cell_type": "code",
   "execution_count": 7,
   "metadata": {
    "jupyter": {
     "outputs_hidden": false
    }
   },
   "outputs": [],
   "source": [
    "atributos = cars.loc[:, 'buying':'safety']  # selección de las columnas de atributos\n",
    "objetivo = cars['acceptability']  # selección de la columna objetivo"
   ]
  },
  {
   "cell_type": "code",
   "execution_count": 8,
   "metadata": {
    "jupyter": {
     "outputs_hidden": false
    }
   },
   "outputs": [
    {
     "name": "stdout",
     "output_type": "stream",
     "text": [
      "[array(['high', 'low', 'med', 'vhigh'], dtype=object), array(['high', 'low', 'med', 'vhigh'], dtype=object), array(['2', '3', '4', '5more'], dtype=object), array(['2', '4', 'more'], dtype=object), array(['big', 'med', 'small'], dtype=object), array(['high', 'low', 'med'], dtype=object)]\n"
     ]
    }
   ],
   "source": [
    "# Para realizar una codificación de los datos, se crea una instancia del tipo de\n",
    "# codificación pretendida y se ajusta a los datos disponibles mediante el método fit.\n",
    "\n",
    "# El codificador adecuado para los atributos es OrdinalEncoder, ya que permite\n",
    "# trabajar con el array completo de valores de los atributos.\n",
    "codificador_atributos = preprocessing.OrdinalEncoder()\n",
    "codificador_atributos.fit(atributos)\n",
    "\n",
    "# Categorías detectadas por el codificador para cada atributo\n",
    "print(codificador_atributos.categories_)"
   ]
  },
  {
   "cell_type": "code",
   "execution_count": 9,
   "metadata": {
    "jupyter": {
     "outputs_hidden": false
    }
   },
   "outputs": [
    {
     "name": "stdout",
     "output_type": "stream",
     "text": [
      "[[3. 3. 0. 0. 2. 1.]\n",
      " [3. 3. 0. 0. 2. 2.]\n",
      " [3. 3. 0. 0. 2. 0.]\n",
      " ...\n",
      " [1. 1. 3. 2. 0. 1.]\n",
      " [1. 1. 3. 2. 0. 2.]\n",
      " [1. 1. 3. 2. 0. 0.]]\n"
     ]
    }
   ],
   "source": [
    "# Una vez ajustado el codificador, el método transform permite codificar los\n",
    "# valores de los atributos\n",
    "atributos_codificados = codificador_atributos.transform(atributos)\n",
    "print(atributos_codificados)"
   ]
  },
  {
   "cell_type": "code",
   "execution_count": 10,
   "metadata": {
    "jupyter": {
     "outputs_hidden": false
    }
   },
   "outputs": [
    {
     "name": "stdout",
     "output_type": "stream",
     "text": [
      "[['vhigh' 'vhigh' '2' '2' 'small' 'low']\n",
      " ['low' 'low' '5more' 'more' 'big' 'low']]\n"
     ]
    }
   ],
   "source": [
    "# El método inverse_transform permite descodificar los valores de los atributos\n",
    "print(codificador_atributos.inverse_transform([[3., 3., 0., 0., 2., 1.],\n",
    "                                               [1., 1., 3., 2., 0., 1.]]))"
   ]
  },
  {
   "cell_type": "code",
   "execution_count": 11,
   "metadata": {
    "jupyter": {
     "outputs_hidden": false
    }
   },
   "outputs": [],
   "source": [
    "# El codificador adecuado para la variable objetivo es LabelEncoder, que trabaja\n",
    "# con una lista o array unidimensional de sus valores\n",
    "codificador_objetivo = preprocessing.LabelEncoder()\n",
    "\n",
    "# El método fit_transform ajusta la codificación y la aplica a los datos justo\n",
    "# a continuación\n",
    "objetivo_codificado = codificador_objetivo.fit_transform(objetivo)"
   ]
  },
  {
   "cell_type": "code",
   "execution_count": 11,
   "metadata": {
    "jupyter": {
     "outputs_hidden": false
    }
   },
   "outputs": [
    {
     "name": "stdout",
     "output_type": "stream",
     "text": [
      "['acc' 'good' 'unacc' 'vgood']\n"
     ]
    }
   ],
   "source": [
    "# Clases detectadas por el codificador para la variable objetivo\n",
    "print(codificador_objetivo.classes_)"
   ]
  },
  {
   "cell_type": "code",
   "execution_count": 12,
   "metadata": {
    "jupyter": {
     "outputs_hidden": false
    }
   },
   "outputs": [
    {
     "name": "stdout",
     "output_type": "stream",
     "text": [
      "[2 2 2 ... 2 1 3]\n"
     ]
    }
   ],
   "source": [
    "print(objetivo_codificado)"
   ]
  },
  {
   "cell_type": "code",
   "execution_count": 13,
   "metadata": {
    "jupyter": {
     "outputs_hidden": false
    }
   },
   "outputs": [
    {
     "name": "stdout",
     "output_type": "stream",
     "text": [
      "['unacc' 'good' 'vgood']\n"
     ]
    }
   ],
   "source": [
    "# Las respuestas predichas por los modelos estarán codificadas, pero el codificador\n",
    "# también permite descodificarlas\n",
    "print(codificador_objetivo.inverse_transform([2, 1, 3]))"
   ]
  },
  {
   "cell_type": "markdown",
   "metadata": {},
   "source": [
    "Una vez codificadas las variables, es necesario separar el conjunto de datos en dos: un conjunto de entrenamiento, que se usará para construir los distintos modelos; y un conjunto de prueba, que se usará para comparar los distintos modelos.\n",
    "\n",
    "Un detalle a tener en cuenta es que la distribución de ejemplos en las distintas clases de aceptabilidad no es uniforme: hay 1210 coches (un 70.023&nbsp;% del total) clasificados como inaceptables (`unacc`), 384 coches (22.222&nbsp;%) clasificados como aceptables (`acc`), 69 coches (3.993&nbsp;%) clasificados como buenos (`good`) y 65 coches (3.762&nbsp;%) clasificados como muy buenos (`vgood`)."
   ]
  },
  {
   "cell_type": "code",
   "execution_count": 14,
   "metadata": {},
   "outputs": [
    {
     "name": "stdout",
     "output_type": "stream",
     "text": [
      "1728\n"
     ]
    }
   ],
   "source": [
    "# Cantidad total de ejemplos\n",
    "print(cars.shape[0])"
   ]
  },
  {
   "cell_type": "code",
   "execution_count": 15,
   "metadata": {},
   "outputs": [
    {
     "name": "stdout",
     "output_type": "stream",
     "text": [
      "unacc    0.700231\n",
      "acc      0.222222\n",
      "good     0.039931\n",
      "vgood    0.037616\n",
      "Name: acceptability, dtype: float64\n"
     ]
    }
   ],
   "source": [
    "# Frecuencia total de cada clase de aceptabilidad\n",
    "print(pandas.Series(objetivo).value_counts(normalize=True))"
   ]
  },
  {
   "cell_type": "markdown",
   "metadata": {},
   "source": [
    "Es conveniente, por tanto, que la separación de los ejemplos se realice de manera estratificada, es decir, intentando mantener la proporción anterior tanto en el conjunto de entrenamiento como en el de prueba.\n",
    "\n",
    "Para dividir un conjunto de datos en un subconjunto de entrenamiento y otro de prueba, _sklearn_ proporciona la función `train_test_split`."
   ]
  },
  {
   "cell_type": "code",
   "execution_count": 12,
   "metadata": {
    "jupyter": {
     "outputs_hidden": false
    }
   },
   "outputs": [],
   "source": [
    "from sklearn import model_selection"
   ]
  },
  {
   "cell_type": "code",
   "execution_count": 13,
   "metadata": {
    "jupyter": {
     "outputs_hidden": false
    }
   },
   "outputs": [],
   "source": [
    "(atributos_entrenamiento, atributos_prueba,\n",
    " objetivo_entrenamiento, objetivo_prueba) = model_selection.train_test_split(\n",
    "        # Conjuntos de datos a dividir, usando los mismos índices para ambos\n",
    "        atributos_codificados, objetivo_codificado,\n",
    "        # Valor de la semilla aleatoria, para que el muestreo sea reproducible,\n",
    "        # a pesar de ser aleatorio\n",
    "        random_state=12345,\n",
    "        # Tamaño del conjunto de prueba\n",
    "        test_size=.33,\n",
    "        # Estratificamos respecto a la distribución de valores en la variable objetivo\n",
    "        stratify=objetivo_codificado)"
   ]
  },
  {
   "cell_type": "code",
   "execution_count": 14,
   "metadata": {
    "jupyter": {
     "outputs_hidden": false
    }
   },
   "outputs": [
    {
     "name": "stdout",
     "output_type": "stream",
     "text": [
      "Cantidad de ejemplos de pruebas requeridos: 570.24\n",
      "Filas del array de atributos de prueba: 571\n",
      "Longitud del vector de objetivos de prueba: 571\n",
      "Proporción de clases en el vector de objetivos de prueba:\n",
      "unacc    0.700525\n",
      "acc      0.222417\n",
      "good     0.040280\n",
      "vgood    0.036778\n",
      "dtype: float64\n"
     ]
    }
   ],
   "source": [
    "# Comprobamos que el conjunto de prueba contiene el 33 % de los datos, en la misma proporción\n",
    "# con respecto a la variable objetivo\n",
    "print('Cantidad de ejemplos de pruebas requeridos:', 1728 * .33)\n",
    "print('Filas del array de atributos de prueba:', atributos_prueba.shape[0])\n",
    "print('Longitud del vector de objetivos de prueba:', len(objetivo_prueba))\n",
    "print('Proporción de clases en el vector de objetivos de prueba:')\n",
    "print(pandas.Series(\n",
    "        codificador_objetivo.inverse_transform(objetivo_prueba)\n",
    "      ).value_counts(normalize=True))"
   ]
  },
  {
   "cell_type": "code",
   "execution_count": 19,
   "metadata": {
    "jupyter": {
     "outputs_hidden": false
    }
   },
   "outputs": [
    {
     "name": "stdout",
     "output_type": "stream",
     "text": [
      "Cantidad de ejemplos de entrenamiento requeridos: 1157.76\n",
      "Filas del array de atributos de entrenamiento: 1157\n",
      "Longitud del vector de objetivos de entrenamiento: 1157\n",
      "Proporción de clases en el vector de objetivos de entrenamiento:\n",
      "unacc    0.700086\n",
      "acc      0.222126\n",
      "good     0.039758\n",
      "vgood    0.038029\n",
      "dtype: float64\n"
     ]
    }
   ],
   "source": [
    "# Comprobamos que el conjunto de entrenamiento contiene el resto de los datos, en la misma\n",
    "# proporción con respecto a la variable objetivo\n",
    "print('Cantidad de ejemplos de entrenamiento requeridos:', 1728 * .67)\n",
    "print('Filas del array de atributos de entrenamiento:', atributos_entrenamiento.shape[0])\n",
    "print('Longitud del vector de objetivos de entrenamiento:', len(objetivo_entrenamiento))\n",
    "print('Proporción de clases en el vector de objetivos de entrenamiento:')\n",
    "print(pandas.Series(\n",
    "        codificador_objetivo.inverse_transform(objetivo_entrenamiento)\n",
    "      ).value_counts(normalize=True))"
   ]
  },
  {
   "cell_type": "markdown",
   "metadata": {},
   "source": [
    "Para realizar aprendizaje supervisado en _sklearn_, basta crear una instancia de la clase de objetos que implemente el modelo que se quiera utilizar (_naive_ Bayes, árboles de decisión, _kNN_, etc.).\n",
    "\n",
    "Cada una de estas instancias dispondrá de los siguientes métodos:\n",
    "* El método `fit` permite entrenar el modelo, dados __por separado__ el conjunto de ejemplos de entrenamiento y la clase de cada uno de estos ejemplos.\n",
    "* El método `predict` permite clasificar un nuevo ejemplo una vez entrenado el modelo.\n",
    "* El método `score` calcula el rendimiento del modelo, dados __por separado__ el conjunto de ejemplos de prueba y la clase de cada uno de estos ejemplos."
   ]
  },
  {
   "cell_type": "markdown",
   "metadata": {},
   "source": [
    "### _Naive_ Bayes"
   ]
  },
  {
   "cell_type": "markdown",
   "metadata": {},
   "source": [
    "_sklearn_ implementa _naive_ Bayes para atributos categóricos mediante instancias de la clase `CategoricalNB`."
   ]
  },
  {
   "cell_type": "code",
   "execution_count": 20,
   "metadata": {
    "jupyter": {
     "outputs_hidden": false
    }
   },
   "outputs": [],
   "source": [
    "from sklearn import naive_bayes"
   ]
  },
  {
   "cell_type": "code",
   "execution_count": 21,
   "metadata": {
    "jupyter": {
     "outputs_hidden": false
    }
   },
   "outputs": [
    {
     "data": {
      "text/plain": [
       "CategoricalNB()"
      ]
     },
     "execution_count": 21,
     "metadata": {},
     "output_type": "execute_result"
    }
   ],
   "source": [
    "clasif_NB = naive_bayes.CategoricalNB(alpha=1.0)  # alpha es el parámetro de suavizado\n",
    "clasif_NB.fit(atributos_entrenamiento, objetivo_entrenamiento)"
   ]
  },
  {
   "cell_type": "markdown",
   "metadata": {},
   "source": [
    "Las siguientes expresiones muestran las cuentas realizadas y (los logaritmos de) las probabilidades aprendidas por el modelo."
   ]
  },
  {
   "cell_type": "code",
   "execution_count": 22,
   "metadata": {
    "jupyter": {
     "outputs_hidden": false
    }
   },
   "outputs": [
    {
     "name": "stdout",
     "output_type": "stream",
     "text": [
      "Cantidad de ejemplos para la clase acc: 257.0\n",
      "Logaritmo de la probabilidad aprendida para la clase acc: -1.5045096422984567\n",
      "Cantidad de ejemplos para la clase good: 46.0\n",
      "Logaritmo de la probabilidad aprendida para la clase good: -3.2249443307045818\n",
      "Cantidad de ejemplos para la clase unacc: 810.0\n",
      "Logaritmo de la probabilidad aprendida para la clase unacc: -0.3565514795271927\n",
      "Cantidad de ejemplos para la clase vgood: 44.0\n",
      "Logaritmo de la probabilidad aprendida para la clase vgood: -3.269396093275416\n"
     ]
    }
   ],
   "source": [
    "for clase, cantidad_ejemplos_clase, log_probabilidad_clase in zip(\n",
    "    codificador_objetivo.classes_, clasif_NB.class_count_, clasif_NB.class_log_prior_):\n",
    "        print(f'Cantidad de ejemplos para la clase {clase}: {cantidad_ejemplos_clase}')\n",
    "        print(f'Logaritmo de la probabilidad aprendida para la clase {clase}: {log_probabilidad_clase}')"
   ]
  },
  {
   "cell_type": "code",
   "execution_count": 23,
   "metadata": {},
   "outputs": [
    {
     "name": "stdout",
     "output_type": "stream",
     "text": [
      "Cantidad de ejemplos para el atributo buying:\n",
      "        high    low    med  vhigh\n",
      "acc     69.0   64.0   70.0   54.0\n",
      "good     0.0   29.0   17.0    0.0\n",
      "unacc  230.0  177.0  174.0  229.0\n",
      "vgood    0.0   26.0   18.0    0.0\n",
      "Logaritmos de las probabilidades aprendidas para el atributo buying:\n",
      "           high       low       med     vhigh\n",
      "acc   -1.316025 -1.390133 -1.301841 -1.557187\n",
      "good  -3.912023 -0.510826 -1.021651 -3.912023\n",
      "unacc -1.259543 -1.520177 -1.537174 -1.263881\n",
      "vgood -3.871201 -0.575364 -0.926762 -3.871201\n",
      "\n",
      "Cantidad de ejemplos para el atributo maint:\n",
      "        high    low    med  vhigh\n",
      "acc     62.0   65.0   78.0   52.0\n",
      "good     0.0   33.0   13.0    0.0\n",
      "unacc  205.0  186.0  174.0  245.0\n",
      "vgood   12.0   17.0   15.0    0.0\n",
      "Logaritmos de las probabilidades aprendidas para el atributo maint:\n",
      "           high       low       med     vhigh\n",
      "acc   -1.421386 -1.374866 -1.195073 -1.594228\n",
      "good  -3.912023 -0.385662 -1.272966 -3.912023\n",
      "unacc -1.374084 -1.470852 -1.537174 -1.196629\n",
      "vgood -1.306252 -0.980829 -1.098612 -3.871201\n",
      "\n",
      "Cantidad de ejemplos para el atributo doors:\n",
      "           2      3      4  5more\n",
      "acc     54.0   60.0   77.0   66.0\n",
      "good    11.0   13.0   13.0    9.0\n",
      "unacc  218.0  207.0  199.0  186.0\n",
      "vgood    7.0   11.0   11.0   15.0\n",
      "Logaritmos de las probabilidades aprendidas para el atributo doors:\n",
      "              2         3         4     5more\n",
      "acc   -1.557187 -1.453647 -1.207812 -1.359828\n",
      "good  -1.427116 -1.272966 -1.272966 -1.609438\n",
      "unacc -1.312889 -1.364422 -1.403643 -1.470852\n",
      "vgood -1.791759 -1.386294 -1.386294 -1.098612\n",
      "\n",
      "Cantidad de ejemplos para el atributo persons:\n",
      "           2      4   more\n",
      "acc      0.0  131.0  126.0\n",
      "good     0.0   23.0   23.0\n",
      "unacc  377.0  217.0  216.0\n",
      "vgood    0.0   20.0   24.0\n",
      "Logaritmos de las probabilidades aprendidas para el atributo persons:\n",
      "              2         4      more\n",
      "acc   -5.560682 -0.677880 -0.716495\n",
      "good  -3.891820 -0.713766 -0.713766\n",
      "unacc -0.765837 -1.316236 -1.320834\n",
      "vgood -3.850148 -0.805625 -0.631272\n",
      "\n",
      "Cantidad de ejemplos para el atributo lug_boot:\n",
      "         big    med  small\n",
      "acc     96.0   97.0   64.0\n",
      "good    17.0   14.0   15.0\n",
      "unacc  247.0  273.0  290.0\n",
      "vgood   26.0   18.0    0.0\n",
      "Logaritmos de las probabilidades aprendidas para el atributo lug_boot:\n",
      "            big       med     small\n",
      "acc   -0.985971 -0.975714 -1.386294\n",
      "good  -1.001449 -1.183770 -1.119232\n",
      "unacc -1.187302 -1.087603 -1.027408\n",
      "vgood -0.554311 -0.905709 -3.850148\n",
      "\n",
      "Cantidad de ejemplos para el atributo safety:\n",
      "        high    low    med\n",
      "acc    142.0    0.0  115.0\n",
      "good    22.0    0.0   24.0\n",
      "unacc  178.0  395.0  237.0\n",
      "vgood   44.0    0.0    0.0\n",
      "Logaritmos de las probabilidades aprendidas para el atributo safety:\n",
      "           high       low       med\n",
      "acc   -0.597837 -5.560682 -0.807091\n",
      "good  -0.756326 -3.891820 -0.672944\n",
      "unacc -1.513345 -0.719317 -1.228460\n",
      "vgood -0.043485 -3.850148 -3.850148\n",
      "\n"
     ]
    }
   ],
   "source": [
    "for i, atributo in enumerate(codificador_atributos.feature_names_in_):\n",
    "    print(f'Cantidad de ejemplos para el atributo {atributo}:')\n",
    "    print(pandas.DataFrame(clasif_NB.category_count_[i],\n",
    "                          columns=codificador_atributos.categories_[i],\n",
    "                          index=codificador_objetivo.classes_))\n",
    "    print(f'Logaritmos de las probabilidades aprendidas para el atributo {atributo}:')\n",
    "    print(pandas.DataFrame(clasif_NB.feature_log_prob_[i],\n",
    "                          columns=codificador_atributos.categories_[i],\n",
    "                          index=codificador_objetivo.classes_))\n",
    "    print()"
   ]
  },
  {
   "cell_type": "markdown",
   "metadata": {},
   "source": [
    "El método `predict` devuelve la clase predicha por el modelo para un nuevo ejemplo y el método `score` la tasa de acierto (_accuracy_) sobre un conjunto de datos de prueba."
   ]
  },
  {
   "cell_type": "code",
   "execution_count": 24,
   "metadata": {},
   "outputs": [
    {
     "data": {
      "text/html": [
       "<div>\n",
       "<style scoped>\n",
       "    .dataframe tbody tr th:only-of-type {\n",
       "        vertical-align: middle;\n",
       "    }\n",
       "\n",
       "    .dataframe tbody tr th {\n",
       "        vertical-align: top;\n",
       "    }\n",
       "\n",
       "    .dataframe thead th {\n",
       "        text-align: right;\n",
       "    }\n",
       "</style>\n",
       "<table border=\"1\" class=\"dataframe\">\n",
       "  <thead>\n",
       "    <tr style=\"text-align: right;\">\n",
       "      <th></th>\n",
       "      <th>buying</th>\n",
       "      <th>maint</th>\n",
       "      <th>doors</th>\n",
       "      <th>persons</th>\n",
       "      <th>lug_boot</th>\n",
       "      <th>safety</th>\n",
       "    </tr>\n",
       "  </thead>\n",
       "  <tbody>\n",
       "    <tr>\n",
       "      <th>0</th>\n",
       "      <td>vhigh</td>\n",
       "      <td>vhigh</td>\n",
       "      <td>3</td>\n",
       "      <td>more</td>\n",
       "      <td>big</td>\n",
       "      <td>high</td>\n",
       "    </tr>\n",
       "    <tr>\n",
       "      <th>1</th>\n",
       "      <td>high</td>\n",
       "      <td>low</td>\n",
       "      <td>3</td>\n",
       "      <td>2</td>\n",
       "      <td>med</td>\n",
       "      <td>med</td>\n",
       "    </tr>\n",
       "  </tbody>\n",
       "</table>\n",
       "</div>"
      ],
      "text/plain": [
       "  buying  maint doors persons lug_boot safety\n",
       "0  vhigh  vhigh     3    more      big   high\n",
       "1   high    low     3       2      med    med"
      ]
     },
     "execution_count": 24,
     "metadata": {},
     "output_type": "execute_result"
    }
   ],
   "source": [
    "nuevos_ejemplos = pandas.DataFrame([['vhigh', 'vhigh', '3', 'more', 'big', 'high'],\n",
    "                                    ['high', 'low', '3', '2', 'med', 'med']],\n",
    "                                   columns=codificador_atributos.feature_names_in_)\n",
    "nuevos_ejemplos"
   ]
  },
  {
   "cell_type": "code",
   "execution_count": 25,
   "metadata": {},
   "outputs": [
    {
     "data": {
      "text/plain": [
       "array(['unacc', 'unacc'], dtype=object)"
      ]
     },
     "execution_count": 25,
     "metadata": {},
     "output_type": "execute_result"
    }
   ],
   "source": [
    "predicciones = clasif_NB.predict(codificador_atributos.transform(nuevos_ejemplos))\n",
    "codificador_objetivo.inverse_transform(predicciones)"
   ]
  },
  {
   "cell_type": "code",
   "execution_count": 26,
   "metadata": {
    "tags": []
   },
   "outputs": [
    {
     "data": {
      "text/plain": [
       "0.8441330998248686"
      ]
     },
     "execution_count": 26,
     "metadata": {},
     "output_type": "execute_result"
    }
   ],
   "source": [
    "clasif_NB.score(atributos_prueba, objetivo_prueba)"
   ]
  },
  {
   "cell_type": "markdown",
   "metadata": {},
   "source": [
    "### Árboles de decisión"
   ]
  },
  {
   "cell_type": "markdown",
   "metadata": {},
   "source": [
    "_sklearn_ implementa los árboles de decisión clasificadores como instancias de la clase `DecisionTreeClassifier`."
   ]
  },
  {
   "cell_type": "code",
   "execution_count": 27,
   "metadata": {
    "tags": []
   },
   "outputs": [],
   "source": [
    "from sklearn import tree"
   ]
  },
  {
   "cell_type": "code",
   "execution_count": 28,
   "metadata": {
    "tags": []
   },
   "outputs": [
    {
     "data": {
      "text/plain": [
       "DecisionTreeClassifier(max_depth=5, random_state=54321)"
      ]
     },
     "execution_count": 28,
     "metadata": {},
     "output_type": "execute_result"
    }
   ],
   "source": [
    "# Scikit-learn implementa el algoritmo CART de tal manera que, al buscar en cada nodo la mejor\n",
    "# combinación atributo-umbral para dividir el conjunto de ejemplos asociado al nodo, no considera\n",
    "# los atributos en orden, sino que los reordena aleatoriamente. Esto puede hacer que se obtenga\n",
    "# un árbol distinto cada vez que se ejecuta el código, ya que produce como efecto que los empates\n",
    "# en esa búsqueda se deshacen de forma aleatoria.\n",
    "\n",
    "# Para evitar el sobreajuste del árbol a los ejemplos de entrenamiento vamos a limitar la\n",
    "# profundidad del árbol\n",
    "\n",
    "clasif_CART = tree.DecisionTreeClassifier(\n",
    "    max_depth=5,  # máxima profundidad del árbol\n",
    "    random_state=54321  # semilla aleatoria, para que el código sea reproducible\n",
    ")\n",
    "clasif_CART.fit(atributos_entrenamiento, objetivo_entrenamiento)"
   ]
  },
  {
   "cell_type": "code",
   "execution_count": 29,
   "metadata": {},
   "outputs": [],
   "source": [
    "from matplotlib import pyplot"
   ]
  },
  {
   "cell_type": "code",
   "execution_count": 30,
   "metadata": {
    "tags": []
   },
   "outputs": [
    {
     "data": {
      "image/png": "[encoded data removed]",
      "text/plain": [
       "<Figure size 3600x1440 with 1 Axes>"
      ]
     },
     "metadata": {
      "needs_background": "light"
     },
     "output_type": "display_data"
    }
   ],
   "source": [
    "pyplot.figure(figsize=(50, 20))  # Anchura y altura del gráfico\n",
    "árbol = tree.plot_tree(clasif_CART,\n",
    "                       feature_names=codificador_atributos.feature_names_in_,\n",
    "                       class_names=codificador_objetivo.classes_)"
   ]
  },
  {
   "cell_type": "markdown",
   "metadata": {},
   "source": [
    "El método `predict` devuelve la clase predicha por el modelo para un nuevo ejemplo y el método `score` la tasa de acierto (_accuracy_) sobre un conjunto de datos de prueba."
   ]
  },
  {
   "cell_type": "code",
   "execution_count": 31,
   "metadata": {},
   "outputs": [
    {
     "data": {
      "text/plain": [
       "array(['unacc', 'unacc'], dtype=object)"
      ]
     },
     "execution_count": 31,
     "metadata": {},
     "output_type": "execute_result"
    }
   ],
   "source": [
    "predicciones = clasif_CART.predict(codificador_atributos.transform(nuevos_ejemplos))\n",
    "codificador_objetivo.inverse_transform(predicciones)"
   ]
  },
  {
   "cell_type": "code",
   "execution_count": 32,
   "metadata": {},
   "outputs": [
    {
     "data": {
      "text/plain": [
       "0.8388791593695272"
      ]
     },
     "execution_count": 32,
     "metadata": {},
     "output_type": "execute_result"
    }
   ],
   "source": [
    "clasif_CART.score(atributos_prueba, objetivo_prueba)"
   ]
  },
  {
   "cell_type": "markdown",
   "metadata": {},
   "source": [
    "### kNN"
   ]
  },
  {
   "cell_type": "markdown",
   "metadata": {},
   "source": [
    "_sklearn_ implementa un modelo _kNN_ clasificador como una instancia de la clase `KNeighborsClassifier`. En https://scikit-learn.org/stable/modules/generated/sklearn.metrics.DistanceMetric.html se puede encontrar una descripción de las distancias actualmente implementadas que se podrían usar."
   ]
  },
  {
   "cell_type": "code",
   "execution_count": 33,
   "metadata": {
    "jupyter": {
     "outputs_hidden": false
    }
   },
   "outputs": [],
   "source": [
    "from sklearn import neighbors"
   ]
  },
  {
   "cell_type": "code",
   "execution_count": 34,
   "metadata": {
    "jupyter": {
     "outputs_hidden": false
    }
   },
   "outputs": [
    {
     "data": {
      "text/plain": [
       "KNeighborsClassifier(metric='hamming')"
      ]
     },
     "execution_count": 34,
     "metadata": {},
     "output_type": "execute_result"
    }
   ],
   "source": [
    "clasif_kNN = neighbors.KNeighborsClassifier(\n",
    "    n_neighbors=5,  # Número de vecinos a considerar\n",
    "    metric='hamming'  # Distancia de Hamming como métrica de cercanía:\n",
    "                      # fracción de atributos con valores distintos\n",
    ")\n",
    "clasif_kNN.fit(atributos_entrenamiento, objetivo_entrenamiento)"
   ]
  },
  {
   "cell_type": "markdown",
   "metadata": {},
   "source": [
    "El método `kneighbors` permite encontrar los (índices de los) $k$ vecinos más cercanos de los ejemplos proporcionados, así como las distancias a las que se encuentran."
   ]
  },
  {
   "cell_type": "code",
   "execution_count": 35,
   "metadata": {
    "jupyter": {
     "outputs_hidden": false
    }
   },
   "outputs": [],
   "source": [
    "distancias, vecinos = clasif_kNN.kneighbors(codificador_atributos.transform(nuevos_ejemplos))"
   ]
  },
  {
   "cell_type": "code",
   "execution_count": 36,
   "metadata": {
    "jupyter": {
     "outputs_hidden": false
    }
   },
   "outputs": [
    {
     "name": "stdout",
     "output_type": "stream",
     "text": [
      "Primer ejemplo nuevo:\n",
      "  buying  maint doors persons lug_boot safety\n",
      "0  vhigh  vhigh     3    more      big   high\n",
      "\n",
      "5 vecinos más cercanos:\n",
      "    buying  maint doors persons lug_boot safety  distancia  clase\n",
      "608   high  vhigh     3    more      big   high   0.166667  unacc\n",
      "60   vhigh    med     3    more      big   high   0.166667    acc\n",
      "776    med  vhigh     3    more      big   high   0.166667    acc\n",
      "653    low  vhigh     3    more      big   high   0.166667    acc\n",
      "925  vhigh    low     3    more      big   high   0.166667    acc\n"
     ]
    }
   ],
   "source": [
    "# Vecinos más cercanos y distancia a ellos del primer ejemplo nuevo\n",
    "print(\"Primer ejemplo nuevo:\")\n",
    "print(nuevos_ejemplos.iloc[[0]])\n",
    "print()\n",
    "print(\"5 vecinos más cercanos:\")\n",
    "print(pandas.DataFrame(codificador_atributos.inverse_transform(atributos_entrenamiento[vecinos[0]]),\n",
    "                       columns=codificador_atributos.feature_names_in_,\n",
    "                       index=vecinos[0]).assign(\n",
    "    distancia=distancias[0],\n",
    "    clase=codificador_objetivo.inverse_transform(objetivo_entrenamiento[vecinos[0]])\n",
    "))"
   ]
  },
  {
   "cell_type": "code",
   "execution_count": 37,
   "metadata": {
    "jupyter": {
     "outputs_hidden": false
    }
   },
   "outputs": [
    {
     "name": "stdout",
     "output_type": "stream",
     "text": [
      "Segundo ejemplo nuevo:\n",
      "  buying maint doors persons lug_boot safety\n",
      "1   high   low     3       2      med    med\n",
      "\n",
      "5 vecinos más cercanos:\n",
      "    buying maint doors persons lug_boot safety  distancia  clase\n",
      "238   high   low     3       2      med    med   0.000000  unacc\n",
      "603   high   low     3       2      med   high   0.166667  unacc\n",
      "589   high   low     3       2      big    med   0.166667  unacc\n",
      "71     low   low     3       2      med    med   0.166667  unacc\n",
      "188   high   low     3       2      med    low   0.166667  unacc\n"
     ]
    }
   ],
   "source": [
    "# Vecinos más cercanos y distancia a ellos del segundo ejemplo nuevo\n",
    "print(\"Segundo ejemplo nuevo:\")\n",
    "print(nuevos_ejemplos.iloc[[1]])\n",
    "print()\n",
    "print(\"5 vecinos más cercanos:\")\n",
    "print(pandas.DataFrame(codificador_atributos.inverse_transform(atributos_entrenamiento[vecinos[1]]),\n",
    "                       columns=codificador_atributos.feature_names_in_,\n",
    "                       index=vecinos[1]).assign(\n",
    "    distancia=distancias[1],\n",
    "    clase=codificador_objetivo.inverse_transform(objetivo_entrenamiento[vecinos[1]])\n",
    "))"
   ]
  },
  {
   "cell_type": "markdown",
   "metadata": {},
   "source": [
    "El método `predict` devuelve la clase predicha por el modelo para un nuevo ejemplo y el método `score` la tasa de aciertos (_accuracy_) sobre un conjunto de datos de prueba."
   ]
  },
  {
   "cell_type": "code",
   "execution_count": 38,
   "metadata": {
    "jupyter": {
     "outputs_hidden": false
    }
   },
   "outputs": [
    {
     "data": {
      "text/plain": [
       "array(['acc', 'unacc'], dtype=object)"
      ]
     },
     "execution_count": 38,
     "metadata": {},
     "output_type": "execute_result"
    }
   ],
   "source": [
    "predicciones = clasif_kNN.predict(codificador_atributos.transform(nuevos_ejemplos))\n",
    "codificador_objetivo.inverse_transform(predicciones)"
   ]
  },
  {
   "cell_type": "code",
   "execution_count": 39,
   "metadata": {
    "jupyter": {
     "outputs_hidden": false
    }
   },
   "outputs": [
    {
     "data": {
      "text/plain": [
       "0.8914185639229422"
      ]
     },
     "execution_count": 39,
     "metadata": {},
     "output_type": "execute_result"
    }
   ],
   "source": [
    "clasif_kNN.score(atributos_prueba, objetivo_prueba)"
   ]
  },
  {
   "cell_type": "markdown",
   "metadata": {},
   "source": [
    "## Solicitudes de admisión en guarderías"
   ]
  },
  {
   "cell_type": "markdown",
   "metadata": {},
   "source": [
    "El fichero de datos `nursery.csv` proporciona un conjunto de datos acerca de la evaluación de solicitudes de admisión en guarderías, en función de los siguientes atributos discretos:\n",
    "* _parents_, con posibles valores: `usual`, `pretentious`, `great_pret`.\n",
    "* _has\\_nurs_, con posibles valores: `proper`, `less_proper`, `improper`, `critical`, `very_crit`.\n",
    "* _form_, con posibles valores: `complete`, `completed`, `incomplete`, `foster`.\n",
    "* _children_, con posibles valores: `1`, `2`, `3`, `more`.\n",
    "* _housing_, con posibles valores: `convenient`, `less_conv`, `critical`.\n",
    "* _finance_, con posibles valores: `convenient`, `inconv`.\n",
    "* _social_, con posibles valores: `non-prob`, `slightly_prob`, `problematic`.\n",
    "* _health_, con posibles valores: `recommended`, `priority`, `not_recom`.\n",
    "\n",
    "Los datos provienen de un sistema experto de decisión usado durante varios años de la década de los 80 en Liubliana (Eslovenia), que se desarrolló para poder proporcionar una explicación objetiva a las solicitudes rechazadas.\n",
    "\n",
    "La evaluación de cada solicitud se indica mediante el atributo _evaluation_, que los clasifica como `not_recom`, `recommend`, `very_recom`, `priority` o `spec_prior`.\n",
    "\n",
    "El objetivo es aprender a partir de los datos un modelo que prediga de la mejor forma posible cómo se evaluará una solicitud de admisión a partir de los valores de los atributos anteriores. Para ello se pide seguir los siguientes pasos:"
   ]
  },
  {
   "cell_type": "markdown",
   "metadata": {},
   "source": [
    "* Leer los datos a partir del fichero `nursery.csv`."
   ]
  },
  {
   "cell_type": "code",
   "execution_count": 8,
   "metadata": {
    "jupyter": {
     "outputs_hidden": false
    }
   },
   "outputs": [
    {
     "name": "stdout",
     "output_type": "stream",
     "text": [
      "(12958, 9)\n"
     ]
    },
    {
     "data": {
      "text/html": [
       "<div>\n",
       "<style scoped>\n",
       "    .dataframe tbody tr th:only-of-type {\n",
       "        vertical-align: middle;\n",
       "    }\n",
       "\n",
       "    .dataframe tbody tr th {\n",
       "        vertical-align: top;\n",
       "    }\n",
       "\n",
       "    .dataframe thead th {\n",
       "        text-align: right;\n",
       "    }\n",
       "</style>\n",
       "<table border=\"1\" class=\"dataframe\">\n",
       "  <thead>\n",
       "    <tr style=\"text-align: right;\">\n",
       "      <th></th>\n",
       "      <th>parents</th>\n",
       "      <th>has_nurs</th>\n",
       "      <th>form</th>\n",
       "      <th>children</th>\n",
       "      <th>housing</th>\n",
       "      <th>finance</th>\n",
       "      <th>social</th>\n",
       "      <th>health</th>\n",
       "      <th>evaluation</th>\n",
       "    </tr>\n",
       "  </thead>\n",
       "  <tbody>\n",
       "    <tr>\n",
       "      <th>0</th>\n",
       "      <td>usual</td>\n",
       "      <td>proper</td>\n",
       "      <td>complete</td>\n",
       "      <td>1</td>\n",
       "      <td>convenient</td>\n",
       "      <td>convenient</td>\n",
       "      <td>nonprob</td>\n",
       "      <td>priority</td>\n",
       "      <td>priority</td>\n",
       "    </tr>\n",
       "    <tr>\n",
       "      <th>1</th>\n",
       "      <td>usual</td>\n",
       "      <td>proper</td>\n",
       "      <td>complete</td>\n",
       "      <td>1</td>\n",
       "      <td>convenient</td>\n",
       "      <td>convenient</td>\n",
       "      <td>nonprob</td>\n",
       "      <td>not_recom</td>\n",
       "      <td>not_recom</td>\n",
       "    </tr>\n",
       "    <tr>\n",
       "      <th>2</th>\n",
       "      <td>usual</td>\n",
       "      <td>proper</td>\n",
       "      <td>complete</td>\n",
       "      <td>1</td>\n",
       "      <td>convenient</td>\n",
       "      <td>convenient</td>\n",
       "      <td>slightly_prob</td>\n",
       "      <td>priority</td>\n",
       "      <td>priority</td>\n",
       "    </tr>\n",
       "    <tr>\n",
       "      <th>3</th>\n",
       "      <td>usual</td>\n",
       "      <td>proper</td>\n",
       "      <td>complete</td>\n",
       "      <td>1</td>\n",
       "      <td>convenient</td>\n",
       "      <td>convenient</td>\n",
       "      <td>slightly_prob</td>\n",
       "      <td>not_recom</td>\n",
       "      <td>not_recom</td>\n",
       "    </tr>\n",
       "    <tr>\n",
       "      <th>4</th>\n",
       "      <td>usual</td>\n",
       "      <td>proper</td>\n",
       "      <td>complete</td>\n",
       "      <td>1</td>\n",
       "      <td>convenient</td>\n",
       "      <td>convenient</td>\n",
       "      <td>problematic</td>\n",
       "      <td>recommended</td>\n",
       "      <td>priority</td>\n",
       "    </tr>\n",
       "    <tr>\n",
       "      <th>5</th>\n",
       "      <td>usual</td>\n",
       "      <td>proper</td>\n",
       "      <td>complete</td>\n",
       "      <td>1</td>\n",
       "      <td>convenient</td>\n",
       "      <td>convenient</td>\n",
       "      <td>problematic</td>\n",
       "      <td>priority</td>\n",
       "      <td>priority</td>\n",
       "    </tr>\n",
       "    <tr>\n",
       "      <th>6</th>\n",
       "      <td>usual</td>\n",
       "      <td>proper</td>\n",
       "      <td>complete</td>\n",
       "      <td>1</td>\n",
       "      <td>convenient</td>\n",
       "      <td>convenient</td>\n",
       "      <td>problematic</td>\n",
       "      <td>not_recom</td>\n",
       "      <td>not_recom</td>\n",
       "    </tr>\n",
       "    <tr>\n",
       "      <th>7</th>\n",
       "      <td>usual</td>\n",
       "      <td>proper</td>\n",
       "      <td>complete</td>\n",
       "      <td>1</td>\n",
       "      <td>convenient</td>\n",
       "      <td>inconv</td>\n",
       "      <td>nonprob</td>\n",
       "      <td>recommended</td>\n",
       "      <td>very_recom</td>\n",
       "    </tr>\n",
       "    <tr>\n",
       "      <th>8</th>\n",
       "      <td>usual</td>\n",
       "      <td>proper</td>\n",
       "      <td>complete</td>\n",
       "      <td>1</td>\n",
       "      <td>convenient</td>\n",
       "      <td>inconv</td>\n",
       "      <td>nonprob</td>\n",
       "      <td>priority</td>\n",
       "      <td>priority</td>\n",
       "    </tr>\n",
       "  </tbody>\n",
       "</table>\n",
       "</div>"
      ],
      "text/plain": [
       "  parents has_nurs      form children     housing     finance         social  \\\n",
       "0   usual   proper  complete        1  convenient  convenient        nonprob   \n",
       "1   usual   proper  complete        1  convenient  convenient        nonprob   \n",
       "2   usual   proper  complete        1  convenient  convenient  slightly_prob   \n",
       "3   usual   proper  complete        1  convenient  convenient  slightly_prob   \n",
       "4   usual   proper  complete        1  convenient  convenient    problematic   \n",
       "5   usual   proper  complete        1  convenient  convenient    problematic   \n",
       "6   usual   proper  complete        1  convenient  convenient    problematic   \n",
       "7   usual   proper  complete        1  convenient      inconv        nonprob   \n",
       "8   usual   proper  complete        1  convenient      inconv        nonprob   \n",
       "\n",
       "        health  evaluation  \n",
       "0     priority    priority  \n",
       "1    not_recom   not_recom  \n",
       "2     priority    priority  \n",
       "3    not_recom   not_recom  \n",
       "4  recommended    priority  \n",
       "5     priority    priority  \n",
       "6    not_recom   not_recom  \n",
       "7  recommended  very_recom  \n",
       "8     priority    priority  "
      ]
     },
     "execution_count": 8,
     "metadata": {},
     "output_type": "execute_result"
    }
   ],
   "source": [
    "import pandas\n",
    "import numpy\n",
    "nursery = pandas.read_csv('nursery.csv', header=None,\n",
    "                       names=['parents', 'has_nurs', 'form', 'children',\n",
    "                              'housing', 'finance', 'social', 'health', 'evaluation'])\n",
    "print(nursery.shape)\n",
    "nursery.head(9)"
   ]
  },
  {
   "cell_type": "markdown",
   "metadata": {},
   "source": [
    "* Codificar los datos con números enteros."
   ]
  },
  {
   "cell_type": "markdown",
   "metadata": {},
   "source": [
    "Vamos a usar el paquete sklearn, que como input espera recibir los atributos discretos transformados en números enteros."
   ]
  },
  {
   "cell_type": "code",
   "execution_count": 14,
   "metadata": {
    "jupyter": {
     "outputs_hidden": false
    }
   },
   "outputs": [
    {
     "name": "stdout",
     "output_type": "stream",
     "text": [
      "[[2. 3. 0. ... 0. 0. 1.]\n",
      " [2. 3. 0. ... 0. 0. 0.]\n",
      " [2. 3. 0. ... 0. 2. 1.]\n",
      " ...\n",
      " [0. 4. 2. ... 1. 1. 2.]\n",
      " [0. 4. 2. ... 1. 1. 1.]\n",
      " [0. 4. 2. ... 1. 1. 0.]]\n"
     ]
    }
   ],
   "source": [
    "from sklearn import preprocessing\n",
    "atributos = nursery.loc[:, 'parents':'health']  # selección de las columnas de atributos\n",
    "objetivo = nursery['evaluation']  # selección de la columna objetivo\n",
    "\n",
    "#Primero lo hacemos con los atributos\n",
    "codificador_atributos = preprocessing.OrdinalEncoder()#se crea primero una instancia con el modelo a seguir\n",
    "codificador_atributos.fit(atributos)#se ajusta linealmente a los datos\n",
    "atributos_codificados = codificador_atributos.transform(atributos)\n",
    "print(atributos_codificados)\n"
   ]
  },
  {
   "cell_type": "code",
   "execution_count": 15,
   "metadata": {},
   "outputs": [
    {
     "name": "stdout",
     "output_type": "stream",
     "text": [
      "[1 0 1 ... 2 2 0]\n"
     ]
    }
   ],
   "source": [
    "#Después con el objetivo\n",
    "codificador_objetivo = preprocessing.LabelEncoder()\n",
    "objetivo_codificado = codificador_objetivo.fit_transform(objetivo)\n",
    "print(objetivo_codificado)"
   ]
  },
  {
   "cell_type": "markdown",
   "metadata": {},
   "source": [
    "* Dividir el conjunto de datos en un subconjunto de entrenamiento (80&nbsp;% de los datos) y un subconjunto de prueba (20&nbsp;% de los datos). El primero de ellos se utilizará tanto para seleccionar un tipo de modelo utilizando la técnica de validación cruzada, como para entrenar el modelo finalmente seleccionado. El segundo se utilizará para medir la capacidad de generalización de este último."
   ]
  },
  {
   "cell_type": "code",
   "execution_count": 18,
   "metadata": {
    "jupyter": {
     "outputs_hidden": false
    }
   },
   "outputs": [
    {
     "name": "stdout",
     "output_type": "stream",
     "text": [
      "not_recom     0.333385\n",
      "priority      0.329217\n",
      "spec_prior    0.312085\n",
      "very_recom    0.025313\n",
      "Name: evaluation, dtype: float64\n"
     ]
    }
   ],
   "source": [
    "# Frecuencia total de cada clase de evaluation\n",
    "print(pandas.Series(objetivo).value_counts(normalize=True))\n",
    "\n",
    "from sklearn import model_selection"
   ]
  },
  {
   "cell_type": "code",
   "execution_count": 44,
   "metadata": {},
   "outputs": [
    {
     "name": "stdout",
     "output_type": "stream",
     "text": [
      "Cantidad de ejemplos de pruebas requeridos: 2591.6000000000004\n",
      "Filas del array de atributos de prueba: 2592\n",
      "Longitud del vector de objetivos de prueba: 2592\n",
      "Proporción de clases en el vector de objetivos de prueba:\n",
      "not_recom     0.333333\n",
      "priority      0.329090\n",
      "spec_prior    0.312114\n",
      "very_recom    0.025463\n",
      "dtype: float64\n"
     ]
    }
   ],
   "source": [
    "(atributos_entrenamiento, atributos_prueba,\n",
    " objetivo_entrenamiento, objetivo_prueba) = model_selection.train_test_split(\n",
    "        # Conjuntos de datos a dividir ya codificados\n",
    "        atributos_codificados, objetivo_codificado,\n",
    "        # Valor de la semilla aleatoria, para que el muestreo sea reproducible,\n",
    "        # a pesar de ser aleatorio\n",
    "        random_state=67345,\n",
    "        # Tamaño del conjunto de prueba\n",
    "        test_size=.20,\n",
    "        # Estratificamos respecto a la distribución de valores en la variable objetivo\n",
    "        stratify=objetivo_codificado)\n",
    "\n",
    "\n",
    "print('Cantidad de ejemplos de pruebas requeridos:', 12958 * .20)\n",
    "print('Filas del array de atributos de prueba:', atributos_prueba.shape[0])\n",
    "print('Longitud del vector de objetivos de prueba:', len(objetivo_prueba))\n",
    "print('Proporción de clases en el vector de objetivos de prueba:')\n",
    "print(pandas.Series(\n",
    "        codificador_objetivo.inverse_transform(objetivo_prueba)\n",
    "      ).value_counts(normalize=True))"
   ]
  },
  {
   "cell_type": "markdown",
   "metadata": {},
   "source": [
    "* Usando el subconjunto de entrenamiento y utilizando la técnica de validación cruzada con 10 pliegues, estimar la tasa de acierto (_accuracy_) de: un modelo _naive_ Bayes con suavizado $ɑ$, para cada uno de los valores $ɑ = 1, ..., 10$; un árbol de decisión con profundidad $p$, para cada uno de los valores $p = 5, ..., 10$; un modelo kNN, para cada uno de los valores $k = 1, ..., 10$."
   ]
  },
  {
   "cell_type": "markdown",
   "metadata": {},
   "source": [
    "__Nota__: la función `cross_val_score` del módulo `model_selection` de _sklearn_ implementa el procedimiento de validación cruzada. Admite, entre otros, los siguientes argumentos:\n",
    "* _estimator_: modelo a evaluar.\n",
    "* _X_: array con los valores de los atributos de los ejemplos.\n",
    "* _y_: array con las clasificaciones de los ejemplos.\n",
    "* _cv_: número de subconjuntos en los que dividir los datos.\n",
    "\n",
    "Devuelve un array con el rendimiento del modelo sobre cada subconjunto, una vez entrenado con los ejemplos del resto de subconjuntos.\n",
    "\n",
    "Para más información acerca de la implementación en _sklearn_ del método de validación cruzada puede consultarse http://scikit-learn.org/stable/modules/cross_validation.html."
   ]
  },
  {
   "cell_type": "code",
   "execution_count": 27,
   "metadata": {
    "jupyter": {
     "outputs_hidden": false
    }
   },
   "outputs": [
    {
     "name": "stdout",
     "output_type": "stream",
     "text": [
      "1\n"
     ]
    }
   ],
   "source": [
    "from sklearn import model_selection\n",
    "from sklearn import naive_bayes\n",
    "from sklearn import tree\n",
    "from sklearn import neighbors\n",
    "\n",
    "#Para asegurarnos de que el modelo que vayamos a crear no tiene una alta capacidad de generalización usamos el metodo de \n",
    "#validación cruzada con 10 pliegues (en este caso, aunque tambien se podría usar el metodo de validación por retención)\n",
    "#Se subdivide el grupo de entrenamiento en k grupos de testeo, usando el resto como entrenamiento. Se calcula la capacidad\n",
    "# de generalización a priori, en el caso de la validación por retención se calcula después de crear el modelo. \n",
    "#Vamos a usar este método de validación para seleccionar qué valor de parametros usamos en cada modelo. "
   ]
  },
  {
   "cell_type": "code",
   "execution_count": 28,
   "metadata": {},
   "outputs": [
    {
     "name": "stdout",
     "output_type": "stream",
     "text": [
      "{1: 0.902468603746328, 2: 0.9022755535532777, 3: 0.9020825964413236, 4: 0.901696775298511, 5: 0.9016003432830819, 6: 0.9016002502019861, 7: 0.9017932073139402, 8: 0.9019860713447985, 9: 0.9020825964413236, 10: 0.9022756466343738}\n",
      "Mejor suavizado: 10\n"
     ]
    }
   ],
   "source": [
    "#Para Naives Bayes\n",
    "#creo un diccionario vacio\n",
    "cv_scores_NB = {}\n",
    "for k in range(1,11):\n",
    "    #creo una instancia de modelo Naives Bayes para cada valor de suavizado (del 1 al 10, 11 porque python no coge el último)\n",
    "    clasif_NB = naive_bayes.CategoricalNB(alpha=k)\n",
    "    #guardo en cv_scores el resultado de cross_val_score que va hacer una validacion cruzada para cada suavizado\n",
    "    cv_scores = model_selection.cross_val_score(clasif_NB,\n",
    "                                                atributos_entrenamiento,\n",
    "                                                objetivo_entrenamiento,\n",
    "                                                cv=10)\n",
    "    #lo guardo en el diccionario clave=suavizado, valor=media del resultado de la validacion cruzada para ese suavizado.\n",
    "    cv_scores_NB[k] = cv_scores.mean()\n",
    "    \n",
    "print(cv_scores_NB)\n",
    "mejor_k_NB = max(cv_scores_NB)\n",
    "print(f'Mejor suavizado: {mejor_k_NB}')"
   ]
  },
  {
   "cell_type": "code",
   "execution_count": 29,
   "metadata": {},
   "outputs": [
    {
     "name": "stdout",
     "output_type": "stream",
     "text": [
      "{5: 0.8776749645361026, 6: 0.8859730511610936, 7: 0.9212816894591244, 8: 0.9332421448863106, 9: 0.9593867631235037, 10: 0.965560366813983}\n",
      "Mejor profundidad: 10\n"
     ]
    }
   ],
   "source": [
    "#Para arboles de decisión con CART\n",
    "cv_scores_CART = {}\n",
    "for p in range(5,11):\n",
    "    clasif_CART = tree.DecisionTreeClassifier(max_depth=p)\n",
    "    cv_scores = model_selection.cross_val_score(clasif_CART,\n",
    "                                                atributos_entrenamiento,\n",
    "                                                objetivo_entrenamiento,\n",
    "                                                cv=10)\n",
    "    cv_scores_CART[p] = cv_scores.mean()\n",
    "print(cv_scores_CART)\n",
    "mejor_p_CART = max(cv_scores_CART)\n",
    "print(f'Mejor profundidad: {mejor_p_CART}')"
   ]
  },
  {
   "cell_type": "code",
   "execution_count": 32,
   "metadata": {},
   "outputs": [
    {
     "name": "stdout",
     "output_type": "stream",
     "text": [
      "1\n",
      "1\n",
      "2\n",
      "3\n",
      "4\n",
      "5\n",
      "6\n",
      "7\n",
      "8\n",
      "9\n",
      "10\n",
      "{1: 0.7887344880353561, 2: 0.7989587948604342, 3: 0.8480618654196282, 4: 0.8823064937095795, 5: 0.9178083683628525, 6: 0.926298760532126, 7: 0.9448201300901398, 8: 0.9528273382902119, 9: 0.9572646072163913, 10: 0.9676831742887673}\n",
      "Mejor número de vecinos: 10\n"
     ]
    }
   ],
   "source": [
    "#Para modelo kNN\n",
    "cv_scores_kNN = {}\n",
    "for k in range(1,11):\n",
    "    clasif_kNN = neighbors.KNeighborsClassifier(n_neighbors=k, metric='hamming') \n",
    "    cv_scores = model_selection.cross_val_score(clasif_kNN,\n",
    "                                                atributos_entrenamiento,\n",
    "                                                objetivo_entrenamiento,\n",
    "                                                cv=10)\n",
    "    print(k) #va lento, si imprimes k podrás ver el progreso\n",
    "    cv_scores_kNN[k] = cv_scores.mean()\n",
    "print(cv_scores_kNN)\n",
    "mejor_k_kNN = max(cv_scores_kNN, key=cv_scores_kNN.get)\n",
    "print(f'Mejor número de vecinos: {mejor_k_kNN}')"
   ]
  },
  {
   "cell_type": "markdown",
   "metadata": {
    "tags": []
   },
   "source": [
    "* Con el mejor suavizado determinado anteriormente, entrenar un modelo _naive_ Bayes con el subconjunto de entrenamiento y calcular la tasa de acierto sobre el subconjunto de prueba."
   ]
  },
  {
   "cell_type": "code",
   "execution_count": 33,
   "metadata": {
    "jupyter": {
     "outputs_hidden": false
    }
   },
   "outputs": [
    {
     "data": {
      "text/plain": [
       "0.8996913580246914"
      ]
     },
     "execution_count": 33,
     "metadata": {},
     "output_type": "execute_result"
    }
   ],
   "source": [
    "clasif_NB = naive_bayes.CategoricalNB(alpha=mejor_k_NB) #se crea instancia del modelo a usar\n",
    "clasif_NB.fit(atributos_entrenamiento, objetivo_entrenamiento) #se entrena\n",
    "clasif_NB.score(atributos_prueba, objetivo_prueba) #se calcula la tasa de acierto sobre el conjunto de prueba"
   ]
  },
  {
   "cell_type": "markdown",
   "metadata": {
    "tags": []
   },
   "source": [
    "* Con la mejor profundidad determinada anteriormente, entrenar un árbol de decisión con el subconjunto de entrenamiento y calcular la tasa de acierto sobre el subconjunto de prueba."
   ]
  },
  {
   "cell_type": "code",
   "execution_count": 34,
   "metadata": {
    "jupyter": {
     "outputs_hidden": false
    }
   },
   "outputs": [
    {
     "data": {
      "text/plain": [
       "0.9614197530864198"
      ]
     },
     "execution_count": 34,
     "metadata": {},
     "output_type": "execute_result"
    }
   ],
   "source": [
    "clasif_CART = tree.DecisionTreeClassifier(max_depth=mejor_p_CART)\n",
    "clasif_CART.fit(atributos_entrenamiento, objetivo_entrenamiento)\n",
    "clasif_CART.score(atributos_prueba, objetivo_prueba)"
   ]
  },
  {
   "cell_type": "markdown",
   "metadata": {},
   "source": [
    "* Con el mejor número de vecinos determinado anteriormente, entrenar un modelo _kNN_ con el subconjunto de entrenamiento y calcular la tasa de acierto sobre el subconjunto de prueba."
   ]
  },
  {
   "cell_type": "code",
   "execution_count": 35,
   "metadata": {
    "jupyter": {
     "outputs_hidden": false
    }
   },
   "outputs": [
    {
     "data": {
      "text/plain": [
       "0.9645061728395061"
      ]
     },
     "execution_count": 35,
     "metadata": {},
     "output_type": "execute_result"
    }
   ],
   "source": [
    "clasif_kNN = neighbors.KNeighborsClassifier(n_neighbors=10, metric='hamming')\n",
    "clasif_kNN.fit(atributos_entrenamiento, objetivo_entrenamiento)\n",
    "clasif_kNN.score(atributos_prueba, objetivo_prueba)"
   ]
  },
  {
   "cell_type": "markdown",
   "metadata": {},
   "source": [
    "* De entre estos tres últimos modelos construidos selecciona uno para realizar predicciones acerca de la evaluación de las solicitudes de admisión."
   ]
  },
  {
   "cell_type": "code",
   "execution_count": 42,
   "metadata": {},
   "outputs": [
    {
     "data": {
      "text/html": [
       "<div>\n",
       "<style scoped>\n",
       "    .dataframe tbody tr th:only-of-type {\n",
       "        vertical-align: middle;\n",
       "    }\n",
       "\n",
       "    .dataframe tbody tr th {\n",
       "        vertical-align: top;\n",
       "    }\n",
       "\n",
       "    .dataframe thead th {\n",
       "        text-align: right;\n",
       "    }\n",
       "</style>\n",
       "<table border=\"1\" class=\"dataframe\">\n",
       "  <thead>\n",
       "    <tr style=\"text-align: right;\">\n",
       "      <th></th>\n",
       "      <th>parents</th>\n",
       "      <th>has_nurs</th>\n",
       "      <th>form</th>\n",
       "      <th>children</th>\n",
       "      <th>housing</th>\n",
       "      <th>finance</th>\n",
       "      <th>social</th>\n",
       "      <th>health</th>\n",
       "    </tr>\n",
       "  </thead>\n",
       "  <tbody>\n",
       "    <tr>\n",
       "      <th>0</th>\n",
       "      <td>pretentious</td>\n",
       "      <td>improper</td>\n",
       "      <td>completed</td>\n",
       "      <td>3</td>\n",
       "      <td>less_conv</td>\n",
       "      <td>inconv</td>\n",
       "      <td>nonprob</td>\n",
       "      <td>not_recom</td>\n",
       "    </tr>\n",
       "    <tr>\n",
       "      <th>1</th>\n",
       "      <td>great_pret</td>\n",
       "      <td>less_proper</td>\n",
       "      <td>incomplete</td>\n",
       "      <td>2</td>\n",
       "      <td>critical</td>\n",
       "      <td>convenient</td>\n",
       "      <td>nonprob</td>\n",
       "      <td>recommended</td>\n",
       "    </tr>\n",
       "  </tbody>\n",
       "</table>\n",
       "</div>"
      ],
      "text/plain": [
       "       parents     has_nurs        form children    housing     finance  \\\n",
       "0  pretentious     improper   completed        3  less_conv      inconv   \n",
       "1   great_pret  less_proper  incomplete        2   critical  convenient   \n",
       "\n",
       "    social       health  \n",
       "0  nonprob    not_recom  \n",
       "1  nonprob  recommended  "
      ]
     },
     "execution_count": 42,
     "metadata": {},
     "output_type": "execute_result"
    }
   ],
   "source": [
    "nuevos_ejemplos = pandas.DataFrame([['pretentious', 'improper', 'completed', '3', 'less_conv', 'inconv', 'nonprob', 'not_recom' ],\n",
    "                                    ['great_pret', 'less_proper', 'incomplete', '2', 'critical', 'convenient', 'nonprob', 'recommended']],\n",
    "                                   columns=['parents', 'has_nurs', 'form', 'children','housing', 'finance', 'social', 'health'])\n",
    "nuevos_ejemplos"
   ]
  },
  {
   "cell_type": "code",
   "execution_count": 43,
   "metadata": {},
   "outputs": [
    {
     "data": {
      "text/plain": [
       "array(['not_recom', 'priority'], dtype=object)"
      ]
     },
     "execution_count": 43,
     "metadata": {},
     "output_type": "execute_result"
    }
   ],
   "source": [
    "predicciones = clasif_kNN.predict(codificador_atributos.transform(nuevos_ejemplos))\n",
    "codificador_objetivo.inverse_transform(predicciones)"
   ]
  }
 ],
 "metadata": {
  "kernelspec": {
   "display_name": "Python 3 (ipykernel)",
   "language": "python",
   "name": "python3"
  },
  "language_info": {
   "codemirror_mode": {
    "name": "ipython",
    "version": 3
   },
   "file_extension": ".py",
   "mimetype": "text/x-python",
   "name": "python",
   "nbconvert_exporter": "python",
   "pygments_lexer": "ipython3",
   "version": "3.10.9"
  },
  "name": "Solución_01_nueva.ipynb"
 },
 "nbformat": 4,
 "nbformat_minor": 4
}
